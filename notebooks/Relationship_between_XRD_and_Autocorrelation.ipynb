{
 "metadata": {
  "name": "",
  "signature": "sha256:cc2e2b1105aed40e17e42cd78750ab8e85d0dde5aa679a44d89f28c9bc968f9b"
 },
 "nbformat": 3,
 "nbformat_minor": 0,
 "worksheets": [
  {
   "cells": [
    {
     "cell_type": "markdown",
     "metadata": {},
     "source": [
      "#Relationship Between XRD and Autocorrelation\n",
      "\n",
      "X-ray Scattering plots provide the intensity of X-ray signal defined as $I$. The intensity can be related to the Fourier transform of the electron density denoted as $A$ (the electron density will be represented as $\\rho(x)$).\n",
      "\n",
      "$$A(k)= \\int \\rho(x) e^{ikx} dx$$\n",
      "\n",
      "$$ I(k) = |A(k)| = A(k) (A(k))^*$$\n",
      "\n"
     ]
    },
    {
     "cell_type": "markdown",
     "metadata": {},
     "source": [
      "where $(A)^*$ is the complex conjugate of $A$.$I$ and $\\rho(x)$ have the following relationship."
     ]
    },
    {
     "cell_type": "markdown",
     "metadata": {},
     "source": [
      "$$ I = \\int \\rho(x) e^{ikx} dx \\int \\rho(y) e^{-iky} dy $$\n",
      "\n",
      "$$ I = \\int \\int \\rho(x) \\rho(y) e^{ik(x - y)} dx dy $$"
     ]
    },
    {
     "cell_type": "markdown",
     "metadata": {},
     "source": [
      "Now lets make a change of variable and let\n",
      "\n",
      "$$ z = x - y$$\n",
      "\n",
      "Substituting this relationship back in the the equation we get.\n",
      "\n",
      "$$ I = \\int \\int \\rho(z + y) \\rho(y) e^{ikz} dz dy $$\n",
      "$$ I = \\mathscr{F} \\Bigg \\{ \\int \\rho(z + y) \\rho(y) dy \\Bigg \\} $$"
     ]
    },
    {
     "cell_type": "markdown",
     "metadata": {},
     "source": [
      "Therefore the autocorrelaiton of the electron density $\\rho(x)$ equal to the inverse Fourier transform of the intensity $I$.\n",
      "\n",
      "$$ \\int \\rho(z + y) \\rho(y) dy = \\mathscr{F}^{-1} \\{ I \\} $$\n",
      "\n",
      "$$ \\int \\rho(z + y) \\rho(y) dy = \\int I e^{-ikz} dz $$"
     ]
    },
    {
     "cell_type": "markdown",
     "metadata": {},
     "source": [
      "$$ \\int \\rho(z + y) \\rho(y) dy = \\int I [cos(kz) - i sin(kz)] dz $$\n",
      "\n",
      "$$ \\int \\rho(z + y) \\rho(y) dy = \\int I cos(kz)dz - i \\int I sin(kz)dz $$\n",
      "\n",
      "In the case that $I$ is symetric integral containing $sin(kz)$ will always be equal to zero.\n",
      "\n",
      "$$ \\int \\rho(z + y) \\rho(y) dy = \\int I cos(kz)dz $$"
     ]
    },
    {
     "cell_type": "code",
     "collapsed": false,
     "input": [],
     "language": "python",
     "metadata": {},
     "outputs": []
    }
   ],
   "metadata": {}
  }
 ]
}